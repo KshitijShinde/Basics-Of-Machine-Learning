{
  "nbformat": 4,
  "nbformat_minor": 0,
  "metadata": {
    "colab": {
      "provenance": [],
      "authorship_tag": "ABX9TyMcEYZFnySAXGZ2qgZEvj+g",
      "include_colab_link": true
    },
    "kernelspec": {
      "name": "python3",
      "display_name": "Python 3"
    },
    "language_info": {
      "name": "python"
    }
  },
  "cells": [
    {
      "cell_type": "markdown",
      "metadata": {
        "id": "view-in-github",
        "colab_type": "text"
      },
      "source": [
        "<a href=\"https://colab.research.google.com/github/KshitijShinde/bml/blob/main/rfecv.ipynb\" target=\"_parent\"><img src=\"https://colab.research.google.com/assets/colab-badge.svg\" alt=\"Open In Colab\"/></a>"
      ]
    },
    {
      "cell_type": "code",
      "execution_count": 1,
      "metadata": {
        "colab": {
          "base_uri": "https://localhost:8080/"
        },
        "id": "w2e1FAcd-7DY",
        "outputId": "75599d71-c8e6-4793-8642-fab0780ed57d"
      },
      "outputs": [
        {
          "output_type": "stream",
          "name": "stdout",
          "text": [
            "Optimal number of features: 4\n",
            "Selected features: [False False  True  True False False  True False  True False]\n",
            "Feature ranking: [5 4 1 1 6 7 1 2 1 3]\n",
            "Accuracy with selected features: 0.7970\n"
          ]
        }
      ],
      "source": [
        "import numpy as np\n",
        "import pandas as pd\n",
        "from sklearn.datasets import load_diabetes\n",
        "from sklearn.model_selection import train_test_split\n",
        "from sklearn.linear_model import LogisticRegression\n",
        "from sklearn.feature_selection import RFECV\n",
        "from sklearn.metrics import accuracy_score\n",
        "\n",
        "# Load the diabetes dataset\n",
        "diabetes = load_diabetes()\n",
        "X = diabetes.data\n",
        "y = diabetes.target\n",
        "\n",
        "# Convert the target variable to binary for Logistic Regression (diabetic or not)\n",
        "y = (y > np.median(y)).astype(int)  # For simplicity, classifying above vs below median\n",
        "\n",
        "# Split the dataset into training and testing sets\n",
        "X_train, X_test, y_train, y_test = train_test_split(X, y, test_size=0.3, random_state=42)\n",
        "\n",
        "# Initialize Logistic Regression model\n",
        "model = LogisticRegression(max_iter=10000)\n",
        "\n",
        "# Initialize RFECV for feature selection\n",
        "rfecv = RFECV(estimator=model, step=1, cv=5)\n",
        "rfecv.fit(X_train, y_train)\n",
        "\n",
        "# Print the selected features and their ranking\n",
        "print(\"Optimal number of features:\", rfecv.n_features_)\n",
        "print(\"Selected features:\", rfecv.support_)\n",
        "print(\"Feature ranking:\", rfecv.ranking_)\n",
        "\n",
        "# Evaluate the model using the selected features\n",
        "X_train_selected = X_train[:, rfecv.support_]\n",
        "X_test_selected = X_test[:, rfecv.support_]\n",
        "\n",
        "model.fit(X_train_selected, y_train)\n",
        "y_pred = model.predict(X_test_selected)\n",
        "\n",
        "# Accuracy of the model\n",
        "accuracy = accuracy_score(y_test, y_pred)\n",
        "print(f'Accuracy with selected features: {accuracy:.4f}')\n"
      ]
    }
  ]
}