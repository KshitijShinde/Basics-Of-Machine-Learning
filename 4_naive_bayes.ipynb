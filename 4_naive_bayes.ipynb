{
  "nbformat": 4,
  "nbformat_minor": 0,
  "metadata": {
    "colab": {
      "provenance": [],
      "authorship_tag": "ABX9TyOGAO/OJqO3kcwIes4f82LI",
      "include_colab_link": true
    },
    "kernelspec": {
      "name": "python3",
      "display_name": "Python 3"
    },
    "language_info": {
      "name": "python"
    }
  },
  "cells": [
    {
      "cell_type": "markdown",
      "metadata": {
        "id": "view-in-github",
        "colab_type": "text"
      },
      "source": [
        "<a href=\"https://colab.research.google.com/github/KshitijShinde/Basics-Of-Machine-Learning/blob/main/4_naive_bayes.ipynb\" target=\"_parent\"><img src=\"https://colab.research.google.com/assets/colab-badge.svg\" alt=\"Open In Colab\"/></a>"
      ]
    },
    {
      "cell_type": "code",
      "execution_count": 2,
      "metadata": {
        "colab": {
          "base_uri": "https://localhost:8080/"
        },
        "id": "WtAu3O7lLhBb",
        "outputId": "c5582a96-6cde-4d77-cdc0-7f59edeabe1b"
      },
      "outputs": [
        {
          "output_type": "stream",
          "name": "stdout",
          "text": [
            "Accuracy: 0.93\n",
            "\n",
            "Classification Report:\n",
            "              precision    recall  f1-score   support\n",
            "\n",
            "   malignant       0.90      0.90      0.90        42\n",
            "      benign       0.94      0.94      0.94        72\n",
            "\n",
            "    accuracy                           0.93       114\n",
            "   macro avg       0.92      0.92      0.92       114\n",
            "weighted avg       0.93      0.93      0.93       114\n",
            "\n"
          ]
        }
      ],
      "source": [
        "# Naive Bayes on Breast Cancer Wisconsin Dataset\n",
        "\n",
        "from sklearn.datasets import load_breast_cancer\n",
        "from sklearn.model_selection import train_test_split\n",
        "from sklearn.preprocessing import StandardScaler\n",
        "from sklearn.naive_bayes import GaussianNB\n",
        "from sklearn.metrics import accuracy_score, classification_report, confusion_matrix\n",
        "import matplotlib.pyplot as plt\n",
        "import seaborn as sns\n",
        "\n",
        "# 1. Load data\n",
        "data = load_breast_cancer()\n",
        "X, y = data.data, data.target\n",
        "\n",
        "# 2. Split into train (80%) and test (20%), stratify to preserve class balance\n",
        "X_train, X_test, y_train, y_test = train_test_split(\n",
        "    X, y, test_size=0.2, random_state=42, stratify=y\n",
        ")\n",
        "\n",
        "# 3. (Optional) Scale features\n",
        "scaler = StandardScaler()\n",
        "X_train_scaled = scaler.fit_transform(X_train)\n",
        "X_test_scaled  = scaler.transform(X_test)\n",
        "\n",
        "# 4. Train Gaussian Naive Bayes\n",
        "nb = GaussianNB()\n",
        "nb.fit(X_train_scaled, y_train)\n",
        "\n",
        "# 5. Predict on test set\n",
        "y_pred = nb.predict(X_test_scaled)\n",
        "\n",
        "# 6. Evaluate\n",
        "print(f\"Accuracy: {accuracy_score(y_test, y_pred):.2f}\\n\")\n",
        "print(\"Classification Report:\")\n",
        "print(classification_report(y_test, y_pred, target_names=data.target_names))\n",
        "\n"
      ]
    }
  ]
}